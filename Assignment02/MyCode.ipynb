{
 "cells": [
  {
   "cell_type": "markdown",
   "id": "0e6d9b3f",
   "metadata": {},
   "source": [
    "# 自然语言处理第二次作业\n",
    "\n",
    "王逸群 19307110397\n",
    "\n",
    "## 0. 准备工作\n",
    "\n",
    "### 0.1 过滤警告信息"
   ]
  },
  {
   "cell_type": "code",
   "execution_count": 102,
   "id": "062b15cb",
   "metadata": {},
   "outputs": [],
   "source": [
    "import warnings\n",
    "warnings.filterwarnings('ignore')"
   ]
  },
  {
   "cell_type": "markdown",
   "id": "54f4c45f",
   "metadata": {},
   "source": [
    "### 0.2 数据导入\n",
    "\n",
    "数据集来源于Wikipedia，存储于`data.json`，包含10个类别10000个样本。\n",
    "\n",
    "每个样本都是一个字典，包含三个键：`title`、`label`和`text`。"
   ]
  },
  {
   "cell_type": "code",
   "execution_count": 1,
   "id": "dc2b06cf",
   "metadata": {},
   "outputs": [],
   "source": [
    "import json"
   ]
  },
  {
   "cell_type": "code",
   "execution_count": 2,
   "id": "534e5378",
   "metadata": {},
   "outputs": [],
   "source": [
    "dat = []\n",
    "with open(\"data.json\", \"r\") as file:\n",
    "    for line in file:\n",
    "        dat.append(json.loads(line))"
   ]
  },
  {
   "cell_type": "markdown",
   "id": "1d8d7a25",
   "metadata": {},
   "source": [
    "### 0.1 数据预处理\n",
    "\n",
    "在`dat`中增加两个键，存储样本中的句子和单词。\n",
    "\n",
    "对每句话，保留英语单词和数字，去除标点符号和特殊字符。\n",
    "\n",
    "其中，英语单词全都小写。"
   ]
  },
  {
   "cell_type": "code",
   "execution_count": 3,
   "id": "3c346a33",
   "metadata": {},
   "outputs": [],
   "source": [
    "from nltk.tokenize import sent_tokenize\n",
    "from nltk.tokenize import word_tokenize"
   ]
  },
  {
   "cell_type": "code",
   "execution_count": 4,
   "id": "10aa93ff",
   "metadata": {},
   "outputs": [],
   "source": [
    "for sample in dat:\n",
    "    sample['sent'] = [[word.lower() for word in word_tokenize(sent) if word.isdigit() or word.isalpha()] \n",
    "                      for sent in sent_tokenize(sample['text'])]\n",
    "    sample['word'] = [word for sent in sample['sent'] for word in sent]"
   ]
  },
  {
   "cell_type": "markdown",
   "id": "a847c182",
   "metadata": {},
   "source": [
    "## 1. 词汇编码\n",
    "\n",
    "以数据集作为训练集，使用`gensim`工具，生成SGNS词汇编码模型。\n",
    "\n",
    "其中，超参数使用默认参数：\n",
    "\n",
    "编码维度：`vector_size = 100`；\n",
    "\n",
    "窗口大小：`window = 5`；\n",
    "\n",
    "负采样参数：`negative = 5`；\n",
    "\n",
    "初始学习率：`alpha = 0.025`："
   ]
  },
  {
   "cell_type": "code",
   "execution_count": 5,
   "id": "7a15b568",
   "metadata": {},
   "outputs": [],
   "source": [
    "from gensim.models import Word2Vec"
   ]
  },
  {
   "cell_type": "code",
   "execution_count": 14,
   "id": "4a3163ce",
   "metadata": {},
   "outputs": [],
   "source": [
    "sents = [sent for sample in dat for sent in sample['sent'] if sent != []]\n",
    "word2vec = Word2Vec(sents)"
   ]
  },
  {
   "cell_type": "markdown",
   "id": "0ecbd0e5",
   "metadata": {},
   "source": [
    "为了方便后续使用，保存模型："
   ]
  },
  {
   "cell_type": "code",
   "execution_count": 15,
   "id": "9d3d9170",
   "metadata": {},
   "outputs": [],
   "source": [
    "word2vec.save('word2vec.model')"
   ]
  },
  {
   "cell_type": "markdown",
   "id": "5e7ad743",
   "metadata": {},
   "source": [
    "后续使用以下代码载入模型："
   ]
  },
  {
   "cell_type": "code",
   "execution_count": 143,
   "id": "e717f634",
   "metadata": {},
   "outputs": [],
   "source": [
    "word2vec = Word2Vec.load('word2vec.model')"
   ]
  },
  {
   "cell_type": "markdown",
   "id": "5a60c31e",
   "metadata": {},
   "source": [
    "## 2. 词汇相似度\n",
    "\n",
    "首先，生成具有编码的词汇列表`word_common`:"
   ]
  },
  {
   "cell_type": "code",
   "execution_count": 30,
   "id": "2a0128c2",
   "metadata": {},
   "outputs": [],
   "source": [
    "import itertools\n",
    "from collections import Counter"
   ]
  },
  {
   "cell_type": "code",
   "execution_count": 31,
   "id": "f47c0111",
   "metadata": {},
   "outputs": [],
   "source": [
    "word_counts = Counter(itertools.chain.from_iterable(sents))\n",
    "word_common = [word for word, count in word_counts.items() if count >= 5]"
   ]
  },
  {
   "cell_type": "markdown",
   "id": "e6e9a8bc",
   "metadata": {},
   "source": [
    "随机生成100、1000、10000对词汇，对每个词汇集合，以余弦相似度作为度量，打印5对最相似和5对最不相似的词汇。"
   ]
  },
  {
   "cell_type": "code",
   "execution_count": 36,
   "id": "d7497a84",
   "metadata": {},
   "outputs": [],
   "source": [
    "import random"
   ]
  },
  {
   "cell_type": "code",
   "execution_count": 45,
   "id": "e7b80364",
   "metadata": {},
   "outputs": [],
   "source": [
    "random.seed(0)"
   ]
  },
  {
   "cell_type": "code",
   "execution_count": 46,
   "id": "76e2b01e",
   "metadata": {},
   "outputs": [
    {
     "name": "stdout",
     "output_type": "stream",
     "text": [
      "Within 100 word pairs, the most similar and unsimilar words:\n",
      "words\t\t\t\t\tdistance\n",
      "activesync          reselected           0.69320\n",
      "spector             monroes              0.53782\n",
      "bolognesi           koss                 0.54482\n",
      "gatchina            oceanside            0.76862\n",
      "nantz               byrek                0.60405\n",
      "uiți                freed               -0.10843\n",
      "incarcerated        domestically        -0.06718\n",
      "wag                 gotten              -0.07614\n",
      "photojournalist     showing             -0.12385\n",
      "steroid             brannon             -0.06870\n",
      "\n",
      "Within 1000 word pairs, the most similar and unsimilar words:\n",
      "words\t\t\t\t\tdistance\n",
      "graphing            kayani               0.74682\n",
      "yojana              ludhiana             0.74324\n",
      "molnár              mihajlović           0.77804\n",
      "wāka                1023                 0.80624\n",
      "bhimrao             sudeshna             0.78051\n",
      "retained            gregoire            -0.26716\n",
      "full                jochen              -0.25174\n",
      "sramik              that                -0.30649\n",
      "relationships       voyager             -0.24274\n",
      "printed             nora                -0.25760\n",
      "\n",
      "Within 10000 word pairs, the most similar and unsimilar words:\n",
      "words\t\t\t\t\tdistance\n",
      "winterbottom        riegert              0.81301\n",
      "hélion              sowerby              0.82244\n",
      "aguon               tonbridge            0.86036\n",
      "raimundo            crimen               0.84254\n",
      "shopian             speicher             0.81557\n",
      "challenges          tiempo              -0.32577\n",
      "conjectured         adequately          -0.32169\n",
      "georgiy             mastery             -0.32314\n",
      "alina               necessity           -0.34728\n",
      "units               spiro               -0.34268\n",
      "\n"
     ]
    }
   ],
   "source": [
    "for num in (100, 1000, 10000):\n",
    "    word_similar = []\n",
    "    word_unsimilar = []\n",
    "    dist_similar = []\n",
    "    dist_unsimilar = []\n",
    "    \n",
    "    for _ in range(num):\n",
    "        word_sample = random.sample(word_common, 2)\n",
    "        dist = word2vec.wv.similarity(word_sample[0], word_sample[1])\n",
    "\n",
    "        if len(dist_similar) < 5:\n",
    "            word_similar.append([word_sample[0], word_sample[1]])\n",
    "            dist_similar.append(dist)\n",
    "        elif dist > min(dist_similar):\n",
    "            index = dist_similar.index(min(dist_similar))\n",
    "            word_similar[index] = [word_sample[0], word_sample[1]]\n",
    "            dist_similar[index] = dist\n",
    "            \n",
    "        if len(dist_unsimilar) < 5:\n",
    "            word_unsimilar.append([word_sample[0], word_sample[1]])\n",
    "            dist_unsimilar.append(dist)\n",
    "        elif dist < max(dist_unsimilar):\n",
    "            index = dist_unsimilar.index(max(dist_unsimilar))\n",
    "            word_unsimilar[index] = [word_sample[0], word_sample[1]]\n",
    "            dist_unsimilar[index] = dist\n",
    "    \n",
    "    print('Within', num, 'word pairs, the most similar and unsimilar words:')\n",
    "    print('words\\t\\t\\t\\t\\tdistance')\n",
    "    for index in range(5):\n",
    "        print('%-20s%-20s%8.5f' % (word_similar[index][0], word_similar[index][1], dist_similar[index]))\n",
    "    for index in range(5):\n",
    "        print('%-20s%-20s%8.5f' % (word_unsimilar[index][0], word_unsimilar[index][1], dist_unsimilar[index]))\n",
    "    print()"
   ]
  },
  {
   "cell_type": "markdown",
   "id": "5f1257bb",
   "metadata": {},
   "source": [
    "可以看到，虽然出现了一些陌生的词汇，有一些词汇相似度是可解释的：\n",
    "\n",
    "|词汇|词汇|词汇集合编号|直观距离|模型距离|\n",
    "|:--|:--|:--:|:--:|:--:|\n",
    "|incarcerated|domestically|1|远|远|\n",
    "|wag|gotten|1|远|远|\n",
    "|printed|nora|2|远|远|\n",
    "|conjectured|adequately|3|远|远|\n",
    "|alina|necessity|3|远|远|\n",
    "|photojournalist|showing|1|近|远|\n",
    "|relationships|voyager|2|近|远|\n",
    "|units|spiro|3|近|远|\n",
    "\n",
    "进而看到，模型距离较近的词汇对解释性较差，词汇集合大小对结果的影响较小。\n",
    "\n",
    "## 3. 文档编码\n",
    "\n",
    "分别使用词汇编码均值、第一段词汇编码均值、文档编码算法三种方法进行文档编码，接着使用k均值聚类算法评估各方法，并使用t-SNE进行可视化。\n",
    "\n",
    "其中k均值聚类代码如下："
   ]
  },
  {
   "cell_type": "code",
   "execution_count": 57,
   "id": "b3cfbf4e",
   "metadata": {},
   "outputs": [],
   "source": [
    "from sklearn.cluster import KMeans"
   ]
  },
  {
   "cell_type": "code",
   "execution_count": null,
   "id": "424538dc",
   "metadata": {},
   "outputs": [],
   "source": [
    "kmeans = KMeans(n_clusters = 10, random_state = 0).fit(dv)"
   ]
  },
  {
   "cell_type": "markdown",
   "id": "78490e42",
   "metadata": {},
   "source": [
    "为了分辨聚类结果对应的`label`，定义如下函数："
   ]
  },
  {
   "cell_type": "code",
   "execution_count": 77,
   "id": "fd23f8bc",
   "metadata": {},
   "outputs": [],
   "source": [
    "def align(labels_):\n",
    "    global dat\n",
    "    table = {}\n",
    "    \n",
    "    for ndex in range(10000):\n",
    "        if dat[index]['label'] not in table.keys():\n",
    "            table[dat[index]['label']] = [0 for _ in range(10)]\n",
    "        table[dat[index]['label']][labels_[index]] += 1\n",
    "    \n",
    "    print('label\\t\\t0\\t1\\t2\\t3\\t4\\t5\\t6\\t7\\t8\\t9')\n",
    "    for key in table.keys():\n",
    "        print('%-12s' % key, end = '\\t')\n",
    "        for index in range(10):\n",
    "            print(table[key][index], end = '\\t')\n",
    "        print()"
   ]
  },
  {
   "cell_type": "markdown",
   "id": "08e99278",
   "metadata": {},
   "source": [
    "使用随机Rand调整指数评估模型代码如下："
   ]
  },
  {
   "cell_type": "code",
   "execution_count": 79,
   "id": "17e53f08",
   "metadata": {},
   "outputs": [],
   "source": [
    "from sklearn.metrics import adjusted_rand_score"
   ]
  },
  {
   "cell_type": "code",
   "execution_count": 80,
   "id": "8b0ad974",
   "metadata": {},
   "outputs": [],
   "source": [
    "labels = [sample['label'] for sample in dat]"
   ]
  },
  {
   "cell_type": "code",
   "execution_count": null,
   "id": "fa45de66",
   "metadata": {},
   "outputs": [],
   "source": [
    "jaccard_score(labels, kmeans.labels_)"
   ]
  },
  {
   "cell_type": "markdown",
   "id": "230b45d7",
   "metadata": {},
   "source": [
    "使用t-SNE进行可视化的代码封装为函数："
   ]
  },
  {
   "cell_type": "code",
   "execution_count": 99,
   "id": "ee023d2d",
   "metadata": {},
   "outputs": [],
   "source": [
    "import numpy as np\n",
    "import matplotlib.pyplot as plt\n",
    "from sklearn.manifold import TSNE"
   ]
  },
  {
   "cell_type": "code",
   "execution_count": 113,
   "id": "d33c92a6",
   "metadata": {},
   "outputs": [],
   "source": [
    "def tsne(dv):\n",
    "    global labels\n",
    "    labels = np.array(labels)\n",
    "    position = TSNE(n_components = 2, learning_rate = 1.2, init = 'pca').fit_transform(dv)\n",
    "    \n",
    "    plt.scatter(position[labels == 'Film', 0], position[labels == 'Film', 1], c = \"tab:blue\")\n",
    "    plt.scatter(position[labels == 'Book', 0], position[labels == 'Book', 1], c = \"tab:orange\")\n",
    "    plt.scatter(position[labels == 'Politician', 0], position[labels == 'Politician', 1], c = \"tab:green\")\n",
    "    plt.scatter(position[labels == 'Writer', 0], position[labels == 'Writer', 1], c = \"tab:red\")\n",
    "    plt.scatter(position[labels == 'Food', 0], position[labels == 'Food', 1], c = \"tab:purple\")\n",
    "    plt.scatter(position[labels == 'Actor', 0], position[labels == 'Actor', 1], c = \"tab:brown\")\n",
    "    plt.scatter(position[labels == 'Animal', 0], position[labels == 'Animal', 1], c = \"tab:pink\")\n",
    "    plt.scatter(position[labels == 'Software', 0], position[labels == 'Software', 1], c = \"tab:gray\")\n",
    "    plt.scatter(position[labels == 'Artist', 0], position[labels == 'Artist', 1], c = \"tab:olive\")\n",
    "    plt.scatter(position[labels == 'Disease', 0], position[labels == 'Disease', 1], c = \"tab:cyan\")\n",
    "    plt.legend(['Film', 'Book', 'Politician', 'Writer', 'Food', 'Actor', 'Animal', 'Software', 'Artist', 'Disease'])"
   ]
  },
  {
   "cell_type": "markdown",
   "id": "20289d7d",
   "metadata": {},
   "source": [
    "### 3.1 使用词汇编码均值"
   ]
  },
  {
   "cell_type": "code",
   "execution_count": 137,
   "id": "d728bbe2",
   "metadata": {},
   "outputs": [
    {
     "name": "stderr",
     "output_type": "stream",
     "text": [
      "100%|██████████████████████████████████████████████████████████████████████████| 10000/10000 [4:48:18<00:00,  1.73s/it]\n"
     ]
    }
   ],
   "source": [
    "dv = []\n",
    "\n",
    "for sample in dat:\n",
    "    total = 0\n",
    "    count = 0\n",
    "    \n",
    "    for word in sample['word']:\n",
    "        if word in word_common:\n",
    "            total += word2vec.wv[word]\n",
    "            count += 1\n",
    "    dv.append(total / count)"
   ]
  },
  {
   "cell_type": "markdown",
   "id": "1b66a50b",
   "metadata": {},
   "source": [
    "为了方便后续使用，保存编码："
   ]
  },
  {
   "cell_type": "code",
   "execution_count": 139,
   "id": "5d1abb5d",
   "metadata": {},
   "outputs": [],
   "source": [
    "import pickle"
   ]
  },
  {
   "cell_type": "code",
   "execution_count": 141,
   "id": "e9de76d2",
   "metadata": {},
   "outputs": [],
   "source": [
    "with open('dv_whole.dat', 'wb') as file:\n",
    "    pickle.dump(dv, file)"
   ]
  },
  {
   "cell_type": "markdown",
   "id": "922e1040",
   "metadata": {},
   "source": [
    "后续使用以下代码导入编码："
   ]
  },
  {
   "cell_type": "code",
   "execution_count": 149,
   "id": "3d1b74de",
   "metadata": {},
   "outputs": [],
   "source": [
    "with open('dv_whole.dat', 'rb') as file:\n",
    "    dv = pickle.load(file)"
   ]
  },
  {
   "cell_type": "markdown",
   "id": "0262d1e7",
   "metadata": {},
   "source": [
    "使用k均值聚类算法:"
   ]
  },
  {
   "cell_type": "code",
   "execution_count": 150,
   "id": "6f796359",
   "metadata": {},
   "outputs": [],
   "source": [
    "kmeans = KMeans(n_clusters = 10, random_state = 0).fit(dv)"
   ]
  },
  {
   "cell_type": "code",
   "execution_count": 151,
   "id": "23885530",
   "metadata": {},
   "outputs": [
    {
     "name": "stdout",
     "output_type": "stream",
     "text": [
      "label\t\t0\t1\t2\t3\t4\t5\t6\t7\t8\t9\n",
      "Film        \t3\t2607\t1\t2\t36\t76\t1\t1\t19\t302\t\n",
      "Book        \t6\t26\t6\t3\t121\t441\t1\t2\t21\t348\t\n",
      "Politician  \t0\t28\t1152\t793\t63\t41\t1\t989\t733\t24\t\n",
      "Writer      \t0\t42\t10\t12\t606\t90\t0\t6\t29\t42\t\n",
      "Food        \t128\t3\t0\t0\t4\t2\t0\t0\t0\t0\t\n",
      "Actor       \t1\t62\t0\t0\t16\t0\t0\t0\t0\t1\t\n",
      "Animal      \t86\t0\t0\t0\t1\t6\t0\t0\t0\t0\t\n",
      "Software    \t8\t3\t1\t0\t0\t1\t253\t0\t0\t0\t\n",
      "Artist      \t0\t18\t2\t2\t465\t25\t1\t0\t2\t5\t\n",
      "Disease     \t213\t0\t1\t0\t0\t5\t0\t0\t1\t0\t\n"
     ]
    }
   ],
   "source": [
    "align(kmeans.labels_)"
   ]
  },
  {
   "cell_type": "markdown",
   "id": "f59ecaf1",
   "metadata": {},
   "source": [
    "可以看到，聚类结果与`label`无法一一对应。\n",
    "\n",
    "使用随机Rand调整指数评估模型："
   ]
  },
  {
   "cell_type": "code",
   "execution_count": 152,
   "id": "3c03476a",
   "metadata": {},
   "outputs": [
    {
     "name": "stdout",
     "output_type": "stream",
     "text": [
      "ARI: 0.466842\n"
     ]
    }
   ],
   "source": [
    "print('ARI: %.6f' % adjusted_rand_score(labels, kmeans.labels_))"
   ]
  },
  {
   "cell_type": "markdown",
   "id": "c248972e",
   "metadata": {},
   "source": [
    "可以看到，结果较好。\n",
    "\n",
    "使用t-SNE进行可视化："
   ]
  },
  {
   "cell_type": "code",
   "execution_count": 153,
   "id": "c2619b3d",
   "metadata": {},
   "outputs": [
    {
     "data": {
      "image/png": "[encoded data removed]",
      "text/plain": [
       "<Figure size 432x288 with 1 Axes>"
      ]
     },
     "metadata": {
      "needs_background": "light"
     },
     "output_type": "display_data"
    }
   ],
   "source": [
    "tsne(dv)"
   ]
  },
  {
   "cell_type": "markdown",
   "id": "47e4df82",
   "metadata": {},
   "source": [
    "可以看到，聚类的效果较明显。\n",
    "\n",
    "### 3.2 使用第一段词汇编码均值"
   ]
  },
  {
   "cell_type": "code",
   "execution_count": 154,
   "id": "58242084",
   "metadata": {},
   "outputs": [
    {
     "name": "stderr",
     "output_type": "stream",
     "text": [
      "100%|████████████████████████████████████████████████████████████████████████████| 10000/10000 [05:51<00:00, 28.44it/s]\n"
     ]
    }
   ],
   "source": [
    "dv = []\n",
    "\n",
    "for sample in tqdm(dat):\n",
    "    total = 0\n",
    "    count = 0\n",
    "    \n",
    "    if '\\n' in sample['text']:\n",
    "        word_first = [word.lower() \n",
    "                      for sent in sent_tokenize(sample['text'].lstrip(' \\n')[:sample['text'].lstrip(' \\n').find('\\n')]) \n",
    "                      for word in word_tokenize(sent) if word.isdigit() or word.isalpha()]\n",
    "    else:\n",
    "        word_first = sample['word']\n",
    "        \n",
    "    for word in word_first:\n",
    "        if word in word_common:\n",
    "            total += word2vec.wv[word]\n",
    "            count += 1\n",
    "    dv.append(total / count)"
   ]
  },
  {
   "cell_type": "markdown",
   "id": "4a66995d",
   "metadata": {},
   "source": [
    "为了方便后续使用，保存编码："
   ]
  },
  {
   "cell_type": "code",
   "execution_count": 155,
   "id": "05c92212",
   "metadata": {},
   "outputs": [],
   "source": [
    "with open('dv_first.dat', 'wb') as file:\n",
    "    pickle.dump(dv, file)"
   ]
  },
  {
   "cell_type": "markdown",
   "id": "67d7e806",
   "metadata": {},
   "source": [
    "后续使用以下代码导入编码："
   ]
  },
  {
   "cell_type": "code",
   "execution_count": 156,
   "id": "5e391d38",
   "metadata": {},
   "outputs": [],
   "source": [
    "with open('dv_first.dat', 'rb') as file:\n",
    "    dv = pickle.load(file)"
   ]
  },
  {
   "cell_type": "markdown",
   "id": "ca478964",
   "metadata": {},
   "source": [
    "使用k均值聚类算法:"
   ]
  },
  {
   "cell_type": "code",
   "execution_count": 157,
   "id": "48188781",
   "metadata": {},
   "outputs": [],
   "source": [
    "kmeans = KMeans(n_clusters = 10, random_state = 0).fit(dv)"
   ]
  },
  {
   "cell_type": "code",
   "execution_count": 158,
   "id": "a420e6e0",
   "metadata": {},
   "outputs": [
    {
     "name": "stdout",
     "output_type": "stream",
     "text": [
      "label\t\t0\t1\t2\t3\t4\t5\t6\t7\t8\t9\n",
      "Film        \t0\t534\t8\t0\t93\t19\t1117\t2\t1271\t4\t\n",
      "Book        \t1\t218\t34\t1\t625\t28\t6\t0\t56\t6\t\n",
      "Politician  \t1072\t10\t1\t357\t63\t1271\t4\t1025\t17\t4\t\n",
      "Writer      \t5\t147\t1\t111\t427\t106\t11\t5\t24\t0\t\n",
      "Food        \t0\t1\t127\t0\t9\t0\t0\t0\t0\t0\t\n",
      "Actor       \t0\t29\t0\t17\t5\t1\t11\t1\t15\t1\t\n",
      "Animal      \t0\t0\t84\t0\t6\t2\t1\t0\t0\t0\t\n",
      "Software    \t0\t2\t8\t0\t7\t0\t0\t0\t4\t245\t\n",
      "Artist      \t1\t36\t4\t75\t306\t76\t4\t1\t16\t1\t\n",
      "Disease     \t0\t0\t219\t0\t1\t0\t0\t0\t0\t0\t\n"
     ]
    }
   ],
   "source": [
    "align(kmeans.labels_)"
   ]
  },
  {
   "cell_type": "markdown",
   "id": "3d8b01a7",
   "metadata": {},
   "source": [
    "可以看到，聚类结果与`label`无法一一对应。\n",
    "\n",
    "使用随机Rand调整指数评估模型："
   ]
  },
  {
   "cell_type": "code",
   "execution_count": 159,
   "id": "01f9d4d7",
   "metadata": {},
   "outputs": [
    {
     "name": "stdout",
     "output_type": "stream",
     "text": [
      "ARI: 0.313592\n"
     ]
    }
   ],
   "source": [
    "print('ARI: %.6f' % adjusted_rand_score(labels, kmeans.labels_))"
   ]
  },
  {
   "cell_type": "markdown",
   "id": "0b45fdb4",
   "metadata": {},
   "source": [
    "可以看到，在计算量大幅减小的条件下，结果保持得较好。\n",
    "\n",
    "使用t-SNE进行可视化："
   ]
  },
  {
   "cell_type": "code",
   "execution_count": 160,
   "id": "2f94385c",
   "metadata": {},
   "outputs": [
    {
     "data": {
      "image/png": "[encoded data removed]",
      "text/plain": [
       "<Figure size 432x288 with 1 Axes>"
      ]
     },
     "metadata": {
      "needs_background": "light"
     },
     "output_type": "display_data"
    }
   ],
   "source": [
    "tsne(dv)"
   ]
  },
  {
   "cell_type": "markdown",
   "id": "e19c650f",
   "metadata": {},
   "source": [
    "### 3.3 使用文档编码算法"
   ]
  },
  {
   "cell_type": "code",
   "execution_count": 47,
   "id": "3dce4f51",
   "metadata": {},
   "outputs": [],
   "source": [
    "from gensim.models.doc2vec import TaggedDocument, Doc2Vec"
   ]
  },
  {
   "cell_type": "code",
   "execution_count": 52,
   "id": "a493c984",
   "metadata": {},
   "outputs": [],
   "source": [
    "docs = [TaggedDocument(sample['word'], [sample['title']]) for sample in dat]\n",
    "doc2vec = Doc2Vec(docs, min_count = 1)"
   ]
  },
  {
   "cell_type": "markdown",
   "id": "fe42f6bc",
   "metadata": {},
   "source": [
    "同样地，为了方便后续使用，保存模型："
   ]
  },
  {
   "cell_type": "code",
   "execution_count": 53,
   "id": "a9903a35",
   "metadata": {},
   "outputs": [],
   "source": [
    "doc2vec.save('doc2vec.model')"
   ]
  },
  {
   "cell_type": "markdown",
   "id": "8b7006b9",
   "metadata": {},
   "source": [
    "后续使用以下代码载入模型："
   ]
  },
  {
   "cell_type": "code",
   "execution_count": 144,
   "id": "904f5098",
   "metadata": {},
   "outputs": [],
   "source": [
    "doc2vec = Doc2Vec.load('doc2vec.model') "
   ]
  },
  {
   "cell_type": "markdown",
   "id": "2fbf0622",
   "metadata": {},
   "source": [
    "使用k均值聚类算法:"
   ]
  },
  {
   "cell_type": "code",
   "execution_count": 58,
   "id": "ed4ff7d8",
   "metadata": {},
   "outputs": [],
   "source": [
    "dv = [doc2vec.dv[sample['title']] for sample in dat]\n",
    "kmeans = KMeans(n_clusters = 10, random_state = 0).fit(dv)"
   ]
  },
  {
   "cell_type": "code",
   "execution_count": 78,
   "id": "2018461e",
   "metadata": {},
   "outputs": [
    {
     "name": "stdout",
     "output_type": "stream",
     "text": [
      "label\t\t0\t1\t2\t3\t4\t5\t6\t7\t8\t9\n",
      "Film        \t122\t457\t51\t137\t800\t193\t1002\t127\t12\t147\t\n",
      "Book        \t75\t15\t146\t62\t131\t84\t139\t100\t122\t101\t\n",
      "Politician  \t322\t178\t584\t545\t377\t815\t38\t354\t17\t594\t\n",
      "Writer      \t33\t22\t136\t57\t154\t65\t59\t178\t11\t122\t\n",
      "Food        \t28\t2\t2\t7\t13\t2\t3\t3\t72\t5\t\n",
      "Actor       \t1\t9\t0\t18\t19\t4\t20\t1\t1\t7\t\n",
      "Animal      \t0\t0\t0\t0\t0\t0\t6\t0\t87\t0\t\n",
      "Software    \t1\t1\t0\t7\t8\t16\t142\t0\t89\t2\t\n",
      "Artist      \t11\t6\t94\t65\t136\t44\t24\t81\t5\t54\t\n",
      "Disease     \t1\t0\t0\t5\t5\t11\t4\t0\t192\t2\t\n"
     ]
    }
   ],
   "source": [
    "align(kmeans.labels_)"
   ]
  },
  {
   "cell_type": "markdown",
   "id": "77ae7bac",
   "metadata": {},
   "source": [
    "可以看到，聚类结果与`label`无法一一对应。\n",
    "\n",
    "使用随机Rand调整指数评估模型："
   ]
  },
  {
   "cell_type": "code",
   "execution_count": 85,
   "id": "c5b9ccdd",
   "metadata": {},
   "outputs": [
    {
     "name": "stdout",
     "output_type": "stream",
     "text": [
      "ARI: 0.093631\n"
     ]
    }
   ],
   "source": [
    "print('ARI: %.6f' % adjusted_rand_score(labels, kmeans.labels_))"
   ]
  },
  {
   "cell_type": "markdown",
   "id": "f513f365",
   "metadata": {},
   "source": [
    "可以看到，结果一般。\n",
    "\n",
    "使用t-SNE进行可视化："
   ]
  },
  {
   "cell_type": "code",
   "execution_count": 114,
   "id": "c286ec3b",
   "metadata": {},
   "outputs": [
    {
     "data": {
      "image/png": "[encoded data removed]",
      "text/plain": [
       "<Figure size 432x288 with 1 Axes>"
      ]
     },
     "metadata": {
      "needs_background": "light"
     },
     "output_type": "display_data"
    }
   ],
   "source": [
    "tsne(dv)"
   ]
  },
  {
   "cell_type": "markdown",
   "id": "00cc68da",
   "metadata": {},
   "source": [
    "可以看到，聚类的效果并不明显。"
   ]
  }
 ],
 "metadata": {
  "kernelspec": {
   "display_name": "Python 3 (ipykernel)",
   "language": "python",
   "name": "python3"
  },
  "language_info": {
   "codemirror_mode": {
    "name": "ipython",
    "version": 3
   },
   "file_extension": ".py",
   "mimetype": "text/x-python",
   "name": "python",
   "nbconvert_exporter": "python",
   "pygments_lexer": "ipython3",
   "version": "3.8.6"
  }
 },
 "nbformat": 4,
 "nbformat_minor": 5
}
