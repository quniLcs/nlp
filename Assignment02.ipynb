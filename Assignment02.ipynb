{
 "cells": [
  {
   "cell_type": "markdown",
   "id": "500c94c4",
   "metadata": {},
   "source": [
    "# 自然语言处理第二次作业\n",
    "\n",
    "王逸群 19307110397\n",
    "\n",
    "## 0. 准备工作\n",
    "\n",
    "数据集来源于Wikipedia，存储于`data.json`，包含10个类别10000个样本。\n",
    "\n",
    "每个样本都是一个字典，包含三个键：`title`、`label`和`text`。"
   ]
  },
  {
   "cell_type": "code",
   "execution_count": 1,
   "id": "69cd3abc",
   "metadata": {},
   "outputs": [],
   "source": [
    "import json"
   ]
  },
  {
   "cell_type": "code",
   "execution_count": 2,
   "id": "a8a49b17",
   "metadata": {},
   "outputs": [],
   "source": [
    "dat = []\n",
    "with open(\"data.json\", \"r\") as file:\n",
    "    for line in file:\n",
    "        dat.append(json.loads(line))"
   ]
  },
  {
   "cell_type": "markdown",
   "id": "b2ee767c",
   "metadata": {},
   "source": [
    "## 1. 词汇编码\n",
    "\n",
    "以数据集作为训练集，使用`gensim`工具，生成SGNS词汇编码模型。\n",
    "\n",
    "其中，超参数选择如下：\n",
    "\n",
    "编码维度\n",
    "\n",
    "窗口大小\n",
    "\n",
    "负采样参数K = 5\n",
    "\n",
    "初始学习率"
   ]
  },
  {
   "cell_type": "code",
   "execution_count": null,
   "id": "69e34b6b",
   "metadata": {},
   "outputs": [],
   "source": []
  },
  {
   "cell_type": "markdown",
   "id": "a82c90ca",
   "metadata": {},
   "source": [
    "## 2. 词汇相似度\n",
    "\n",
    "随机生成100、1000、10000对词汇，对每个词汇集合，以余弦相似度作为度量，打印5对最相似和5对最不相似的词汇。"
   ]
  },
  {
   "cell_type": "code",
   "execution_count": null,
   "id": "97495326",
   "metadata": {},
   "outputs": [],
   "source": []
  },
  {
   "cell_type": "markdown",
   "id": "bab75e65",
   "metadata": {},
   "source": [
    "可以看到，\n",
    "\n",
    "## 3. 文档编码\n",
    "\n",
    "分别使用词汇编码均值、第一段词汇编码均值、文档编码算法三种方法进行文档编码，并使用k均值聚类算法，使用微观和宏观F1值评价各方法。\n",
    "\n",
    "### 3.1 使用词汇编码均值"
   ]
  },
  {
   "cell_type": "code",
   "execution_count": null,
   "id": "e93ebbd4",
   "metadata": {},
   "outputs": [],
   "source": []
  },
  {
   "cell_type": "markdown",
   "id": "64561aab",
   "metadata": {},
   "source": [
    "### 3.2 使用第一段词汇编码均值"
   ]
  },
  {
   "cell_type": "code",
   "execution_count": null,
   "id": "da1379ea",
   "metadata": {},
   "outputs": [],
   "source": []
  },
  {
   "cell_type": "markdown",
   "id": "a30a1375",
   "metadata": {},
   "source": [
    "### 3.3 使用文档编码算法"
   ]
  },
  {
   "cell_type": "code",
   "execution_count": null,
   "id": "6f94910e",
   "metadata": {},
   "outputs": [],
   "source": []
  },
  {
   "cell_type": "markdown",
   "id": "ce2c08c1",
   "metadata": {},
   "source": [
    "## 4. t-SNE可视化"
   ]
  },
  {
   "cell_type": "code",
   "execution_count": null,
   "id": "d4eade71",
   "metadata": {},
   "outputs": [],
   "source": []
  }
 ],
 "metadata": {
  "kernelspec": {
   "display_name": "Python 3 (ipykernel)",
   "language": "python",
   "name": "python3"
  },
  "language_info": {
   "codemirror_mode": {
    "name": "ipython",
    "version": 3
   },
   "file_extension": ".py",
   "mimetype": "text/x-python",
   "name": "python",
   "nbconvert_exporter": "python",
   "pygments_lexer": "ipython3",
   "version": "3.8.6"
  }
 },
 "nbformat": 4,
 "nbformat_minor": 5
}
