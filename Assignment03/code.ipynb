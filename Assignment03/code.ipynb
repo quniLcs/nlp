{
 "cells": [
  {
   "cell_type": "markdown",
   "id": "63e262e4",
   "metadata": {},
   "source": [
    "# 自然语言处理第三次作业\n",
    "\n",
    "# 1. 数据导入\n",
    "\n",
    "## 1.1 样本导入 \n",
    "\n",
    "数据集来源于Brown corpus，存储于`train.txt`, `test.txt`。\n",
    "\n",
    "每个句子样本包含三个部分：\n",
    "\n",
    "第一行为句子编号；\n",
    "\n",
    "接下来的若干行为单词词性对，用制表符隔开；\n",
    "\n",
    "最后一行为空行。\n",
    "\n",
    "将数据集导入存储于`train`和`test`列表，列表的每个元素是单词词性对列表。"
   ]
  },
  {
   "cell_type": "code",
   "execution_count": null,
   "id": "49deac30",
   "metadata": {},
   "outputs": [],
   "source": [
    "train = []\n",
    "with open('train.txt', 'r') as file:\n",
    "    for line in file:\n",
    "        if '\\t' in line:\n",
    "            train[-1].append(line.split())\n",
    "        elif line != '\\n':\n",
    "            train.append([])\n",
    "\n",
    "test = []\n",
    "with open('test.txt', 'r') as file:\n",
    "    for line in file:\n",
    "        if '\\t' in line:\n",
    "            test[-1].append(line.split())\n",
    "        elif line != '\\n':\n",
    "            test.append([])"
   ]
  },
  {
   "cell_type": "markdown",
   "id": "ccdc9581",
   "metadata": {},
   "source": [
    "## 1.2 标签导入\n",
    "\n",
    "标签共12个，存储于`tag.txt`。"
   ]
  },
  {
   "cell_type": "code",
   "execution_count": null,
   "id": "fd15986f",
   "metadata": {},
   "outputs": [],
   "source": [
    "tag = []\n",
    "with open('tag.txt', 'r') as file:\n",
    "    for line in file:\n",
    "        print(line, end = '')\n",
    "        train.append(line.rstrip('\\n'))"
   ]
  },
  {
   "cell_type": "markdown",
   "id": "89cc089e",
   "metadata": {},
   "source": [
    "## 1.3 统计单词与句子数"
   ]
  },
  {
   "cell_type": "code",
   "execution_count": null,
   "id": "ad7713b0",
   "metadata": {},
   "outputs": [],
   "source": [
    "num_word = [sum([len(sent) for sent in train]), sum([len(sent) for sent in test])]\n",
    "\n",
    "print('数据集\\t单词数\\t句子数')     \n",
    "print('训练集\\t%d\\t%d' % (num_word[0], len(train)))      \n",
    "print('测试集\\t%d\\t%d' % (num_word[1], len(test)))"
   ]
  },
  {
   "cell_type": "markdown",
   "id": "9e3652b4",
   "metadata": {},
   "source": [
    "## 1.4 统计不同词性单词数\n",
    "\n",
    "`num`是一个字典，其键为词性，其值为一个列表。\n",
    "\n",
    "列表中的第一个值表示训练集中该词性单词数，第二个值表示测试集中该词性单词数。"
   ]
  },
  {
   "cell_type": "code",
   "execution_count": null,
   "id": "988f287d",
   "metadata": {},
   "outputs": [],
   "source": [
    "num = {}\n",
    "\n",
    "for key in tag:\n",
    "    num[key] = [0, 0]\n",
    "\n",
    "for sent in train:\n",
    "    for word in sent:\n",
    "        num[word[1]][0] += 1\n",
    "        \n",
    "for sent in test:\n",
    "    for word in sent:\n",
    "        num[word[1]][1] += 1\n",
    "\n",
    "for key in num:\n",
    "    print(\"'%4s':\\t[%6d, %5d]\" % (key, num[key][0], num[key][1]))"
   ]
  },
  {
   "cell_type": "markdown",
   "id": "530ac2a8",
   "metadata": {},
   "source": [
    "## 2. 建立基础模型\n",
    "\n",
    "参考《Speech and Language Processing》第163页建立基础模型。\n",
    "\n",
    "## 2.1 建立模型\n",
    "\n",
    "`count`是一个字典，其键为单词，其值为一个字典，\n",
    "\n",
    "字典的键为词性，值为该单词以该词性出现的次数。"
   ]
  },
  {
   "cell_type": "code",
   "execution_count": null,
   "id": "ec72b9a4",
   "metadata": {},
   "outputs": [],
   "source": [
    "count = {}\n",
    "\n",
    "for sent in train:\n",
    "    for word in sent:\n",
    "        if word[0] not in count:\n",
    "            count[word[0]] = {word[1]: 1}\n",
    "        elif word[1] not in count[word[0]]:\n",
    "            count[word[0]][word[1]] = 1\n",
    "        else:\n",
    "            count[word[0]][word[1]] += 1"
   ]
  },
  {
   "cell_type": "markdown",
   "id": "a5f4e076",
   "metadata": {},
   "source": [
    "`baseline`是一个字典，其键为单词，其值为词性。"
   ]
  },
  {
   "cell_type": "code",
   "execution_count": null,
   "id": "66d45c3d",
   "metadata": {},
   "outputs": [],
   "source": [
    "baseline = {}\n",
    "\n",
    "for word in count:\n",
    "    max_count = 0\n",
    "    for key in count[word]:\n",
    "        if count[word][key] > max_count:\n",
    "            max_count = count[word][key]\n",
    "            max_key = key\n",
    "    baseline[word] = max_key"
   ]
  },
  {
   "cell_type": "markdown",
   "id": "0f87358a",
   "metadata": {},
   "source": [
    "## 2.2 测试模型\n",
    "\n",
    "使用不同方法处理未知单词。\n",
    "\n",
    "### 2.2.1 使用其它词性\n",
    "\n",
    "即将未知单词定为`X`。"
   ]
  },
  {
   "cell_type": "code",
   "execution_count": null,
   "id": "38528080",
   "metadata": {},
   "outputs": [],
   "source": [
    "correct = 0\n",
    "\n",
    "for sent in train:\n",
    "    for word in sent:\n",
    "        if word[0] in baseline:\n",
    "            correct += word[1] == baseline[word[0]]\n",
    "        else:\n",
    "            correct += word[1] == 'X'\n",
    "            \n",
    "print('训练集正确率：%.6f' % (correct / num_word[0]))\n",
    "\n",
    "correct = 0\n",
    "\n",
    "for sent in test:\n",
    "    for word in sent:\n",
    "        if word[0] in baseline:\n",
    "            correct += word[1] == baseline[word[0]]\n",
    "        else:\n",
    "            correct += word[1] == 'X'\n",
    "            \n",
    "print('测试集正确率：%.6f' % (correct / num_word[1]))"
   ]
  },
  {
   "cell_type": "markdown",
   "id": "97accf7e",
   "metadata": {},
   "source": [
    "可以看到，训练集精度高于0.9，也高于测试集精度，但未达到1.0。\n",
    "\n",
    "### 2.2.2 使用出现一次的单词中最频繁出现的词性\n",
    "\n",
    "`count_one`是一个字典，其键为词性，其值为出现一次的单词以该词性出现的次数。"
   ]
  },
  {
   "cell_type": "code",
   "execution_count": null,
   "id": "4e143100",
   "metadata": {},
   "outputs": [],
   "source": [
    "count_one = dict.fromkeys(tag, 0)\n",
    "\n",
    "for word in count:\n",
    "    if len(count[word]) == 1:\n",
    "        for key in count[word]:\n",
    "            count_one[key] += 1\n",
    "            \n",
    "for key in count_one:\n",
    "    print(\"'%4s':\\t%5d\" % (key, count_one[key]))"
   ]
  },
  {
   "cell_type": "markdown",
   "id": "8d8f5203",
   "metadata": {},
   "source": [
    "即将未知单词定为`NOUN`："
   ]
  },
  {
   "cell_type": "code",
   "execution_count": null,
   "id": "5e370af9",
   "metadata": {},
   "outputs": [],
   "source": [
    "correct = 0\n",
    "\n",
    "for sent in train:\n",
    "    for word in sent:\n",
    "        if word[0] in baseline:\n",
    "            correct += word[1] == baseline[word[0]]\n",
    "        else:\n",
    "            correct += word[1] == 'NOUN'\n",
    "            \n",
    "print('训练集正确率：%.6f' % (correct / num_word[0]))\n",
    "\n",
    "correct = 0\n",
    "\n",
    "for sent in test:\n",
    "    for word in sent:\n",
    "        if word[0] in baseline:\n",
    "            correct += word[1] == baseline[word[0]]\n",
    "        else:\n",
    "            correct += word[1] == 'NOUN'\n",
    "            \n",
    "print('测试集正确率：%.6f' % (correct / num_word[1]))"
   ]
  },
  {
   "cell_type": "markdown",
   "id": "31d6beb6",
   "metadata": {},
   "source": [
    "可以看到，训练集精度显然不会变化，仍然高于测试集精度；测试集精度有所提升。\n",
    "\n",
    "### 2.2.3 使用最频繁出现的词性\n",
    "\n",
    "即将未知单词定为`NOUN`，结果同上。\n",
    "\n",
    "### 2.2.4 词形判断\n",
    "\n",
    "参考[GitHub](https://github.com/Adamouization/POS-Tagging-and-Unknown-Words)通过词形初步判断词性，无法判断的词性记为`X`："
   ]
  },
  {
   "cell_type": "code",
   "execution_count": null,
   "id": "97087d8b",
   "metadata": {},
   "outputs": [],
   "source": [
    "import string"
   ]
  },
  {
   "cell_type": "code",
   "execution_count": null,
   "id": "89af4ffe",
   "metadata": {},
   "outputs": [],
   "source": [
    "def unknown_word_tag_x(word):\n",
    "    if all(char in string.punctuation for char in word):\n",
    "        return '.'\n",
    "    elif any(word.endswith(suffix) for suffix in [\"ous\", \"ese\", \"ful\", \"i\", \"ian\", \"ible\", \"ic\", \"ish\", \"ive\", \"less\", \"able\"]):\n",
    "        return 'ADJ'\n",
    "    elif any(word.endswith(suffix) for suffix in [\"ly\", \"wise\", \"wards\", \"ward\"]):\n",
    "        return 'ADV'\n",
    "    elif any(word.endswith(suffix) for suffix in [\"action\", \"age\", \"ance\", \"cy\", \"ee\", \"ence\", \"er\", \"hood\", \"ion\", \"ism\",\n",
    "                                                  \"ist\", \"ity\", \"ment\", \"ness\", \"or\", \"ry\", \"scape\", \"ship\", \"dom\", \"ty\", \"'s\"]):\n",
    "        return 'NOUN'\n",
    "    elif any(char.isdigit() for char in word):\n",
    "        return 'NUM'\n",
    "    elif any(word.endswith(suffix) for suffix in [\"ed\", \"ify\", \"ise\", \"ize\", \"ate\", \"ing\"]):\n",
    "        return 'VERB'\n",
    "    else:\n",
    "        return 'X'"
   ]
  },
  {
   "cell_type": "code",
   "execution_count": null,
   "id": "0252dd0e",
   "metadata": {},
   "outputs": [],
   "source": [
    "correct = 0\n",
    "\n",
    "for sent in train:\n",
    "    for word in sent:\n",
    "        if word[0] in baseline:\n",
    "            correct += word[1] == baseline[word[0]]\n",
    "        else:\n",
    "            correct += word[1] == unknown_word_tag_x(word[0])\n",
    "            \n",
    "print('训练集正确率：%.6f' % (correct / num_word[0]))\n",
    "\n",
    "correct = 0\n",
    "\n",
    "for sent in test:\n",
    "    for word in sent:\n",
    "        if word[0] in baseline:\n",
    "            correct += word[1] == baseline[word[0]]\n",
    "        else:\n",
    "            correct += word[1] == unknown_word_tag_x(word[0])\n",
    "            \n",
    "print('测试集正确率：%.6f' % (correct / num_word[1]))"
   ]
  },
  {
   "cell_type": "markdown",
   "id": "10a9a5f1",
   "metadata": {},
   "source": [
    "可以看到，训练集精度显然不会变化，仍然高于测试集精度；测试集精度相对直接使用`X`有所提升，相对直接使用`NOUN`有所下降。\n",
    "\n",
    "### 2.2.5 另一种词形判断"
   ]
  },
  {
   "cell_type": "code",
   "execution_count": null,
   "id": "9d5a3ea7",
   "metadata": {},
   "outputs": [],
   "source": [
    "def unknown_word_tag_noun(word):\n",
    "    if all(char in string.punctuation for char in word):\n",
    "        return '.'\n",
    "    elif any(word.endswith(suffix) for suffix in [\"ous\", \"ese\", \"ful\", \"i\", \"ian\", \"ible\", \"ic\", \"ish\", \"ive\", \"less\", \"able\"]):\n",
    "        return 'ADJ'\n",
    "    elif any(word.endswith(suffix) for suffix in [\"ly\", \"wise\", \"wards\", \"ward\"]):\n",
    "        return 'ADV'\n",
    "    elif any(char.isdigit() for char in word):\n",
    "        return 'NUM'\n",
    "    elif any(word.endswith(suffix) for suffix in [\"ed\", \"ify\", \"ise\", \"ize\", \"ate\", \"ing\"]):\n",
    "        return 'VERB'\n",
    "    else:\n",
    "        return 'NOUN'"
   ]
  },
  {
   "cell_type": "code",
   "execution_count": null,
   "id": "918a708b",
   "metadata": {},
   "outputs": [],
   "source": [
    "correct = 0\n",
    "\n",
    "for sent in train:\n",
    "    for word in sent:\n",
    "        if word[0] in baseline:\n",
    "            correct += word[1] == baseline[word[0]]\n",
    "        else:\n",
    "            correct += word[1] == unknown_word_tag_noun(word[0])\n",
    "            \n",
    "print('训练集正确率：%.6f' % (correct / num_word[0]))\n",
    "\n",
    "correct = 0\n",
    "\n",
    "for sent in test:\n",
    "    for word in sent:\n",
    "        if word[0] in baseline:\n",
    "            correct += word[1] == baseline[word[0]]\n",
    "        else:\n",
    "            correct += word[1] == unknown_word_tag_noun(word[0])\n",
    "            \n",
    "print('测试集正确率：%.6f' % (correct / num_word[1]))"
   ]
  },
  {
   "cell_type": "markdown",
   "id": "1ea47193",
   "metadata": {},
   "source": [
    "可以看到，训练集精度显然不会变化，仍然高于测试集精度；测试集精度相对以上所有方法都有所提升。\n",
    "\n",
    "# 3. 建立隐Markov模型\n",
    "\n",
    "## 3.1 训练模型\n",
    "\n",
    "使用`nltk.tag.HiddenMarkovModelTagger`，参考《Speech and Language Processing》8.4.3章。"
   ]
  },
  {
   "cell_type": "code",
   "execution_count": null,
   "id": "3a820f52",
   "metadata": {},
   "outputs": [],
   "source": [
    "from nltk.tag import HiddenMarkovModelTagger\n",
    "from nltk import FreqDist\n",
    "from nltk.probability import ConditionalFreqDist, ConditionalProbDist, MLEProbDist"
   ]
  },
  {
   "cell_type": "code",
   "execution_count": null,
   "id": "4562db5f",
   "metadata": {},
   "outputs": [],
   "source": [
    "hmm = HiddenMarkovModelTagger(symbols = symbol, states = tag, transitions = transition, outputs = output, priors = prior)"
   ]
  },
  {
   "cell_type": "markdown",
   "id": "2a0c7544",
   "metadata": {},
   "source": [
    "## 3.2 测试模型"
   ]
  },
  {
   "cell_type": "code",
   "execution_count": null,
   "id": "3bb95c46",
   "metadata": {},
   "outputs": [],
   "source": []
  },
  {
   "cell_type": "markdown",
   "id": "df6770d5",
   "metadata": {},
   "source": [
    "## 3.3 与基础模型的比较\n",
    "\n",
    "因"
   ]
  }
 ],
 "metadata": {
  "kernelspec": {
   "display_name": "Python 3 (ipykernel)",
   "language": "python",
   "name": "python3"
  },
  "language_info": {
   "codemirror_mode": {
    "name": "ipython",
    "version": 3
   },
   "file_extension": ".py",
   "mimetype": "text/x-python",
   "name": "python",
   "nbconvert_exporter": "python",
   "pygments_lexer": "ipython3",
   "version": "3.8.6"
  }
 },
 "nbformat": 4,
 "nbformat_minor": 5
}
