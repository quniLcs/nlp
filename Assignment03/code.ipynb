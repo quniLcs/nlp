{
 "cells": [
  {
   "cell_type": "markdown",
   "id": "63e262e4",
   "metadata": {},
   "source": [
    "# 自然语言处理第三次作业\n",
    "\n",
    "# 1. 数据导入\n",
    "\n",
    "## 1.1 样本导入 \n",
    "\n",
    "数据集来源于Brown corpus，存储于`train.txt`, `test.txt`。"
   ]
  },
  {
   "cell_type": "code",
   "execution_count": null,
   "id": "49deac30",
   "metadata": {},
   "outputs": [],
   "source": []
  },
  {
   "cell_type": "markdown",
   "id": "ccdc9581",
   "metadata": {},
   "source": [
    "## 1.2 标签导入\n",
    "\n",
    "标签共12个，存储于`tag.txt`。"
   ]
  },
  {
   "cell_type": "code",
   "execution_count": null,
   "id": "fd15986f",
   "metadata": {},
   "outputs": [],
   "source": [
    "print()"
   ]
  },
  {
   "cell_type": "markdown",
   "id": "89cc089e",
   "metadata": {},
   "source": [
    "## 1.3 统计单词与句子数"
   ]
  },
  {
   "cell_type": "code",
   "execution_count": null,
   "id": "ad7713b0",
   "metadata": {},
   "outputs": [],
   "source": []
  },
  {
   "cell_type": "markdown",
   "id": "9e3652b4",
   "metadata": {},
   "source": [
    "## 1.4 统计不同词性单词数\n",
    "\n",
    "`num`是一个字典，其键为词性，其值为一个列表。\n",
    "\n",
    "列表中的第一个值表示训练集中该词性单词数，第二个值表示测试集中该词性单词数。"
   ]
  },
  {
   "cell_type": "code",
   "execution_count": null,
   "id": "988f287d",
   "metadata": {},
   "outputs": [],
   "source": [
    "print()"
   ]
  },
  {
   "cell_type": "markdown",
   "id": "530ac2a8",
   "metadata": {},
   "source": [
    "## 2. 建立基础模型\n",
    "\n",
    "参考《Speech and Language Processing》第163页建立基础模型。\n",
    "\n",
    "## 2.1 建立模型\n",
    "\n",
    "`baseline`是一个字典，其键为单词，其值为词性。"
   ]
  },
  {
   "cell_type": "code",
   "execution_count": null,
   "id": "ec72b9a4",
   "metadata": {},
   "outputs": [],
   "source": []
  },
  {
   "cell_type": "markdown",
   "id": "0f87358a",
   "metadata": {},
   "source": [
    "## 2.2 测试模型\n",
    "\n",
    "使用不同方法处理未知单词。\n",
    "\n",
    "### 2.2.1 增加未知词性\n",
    "\n",
    "将训练集中所有只出现一次的单词改为`UNK-x`词性。"
   ]
  },
  {
   "cell_type": "code",
   "execution_count": null,
   "id": "38528080",
   "metadata": {},
   "outputs": [],
   "source": []
  },
  {
   "cell_type": "markdown",
   "id": "f806cf86",
   "metadata": {},
   "source": [
    "### 2.2.2 使用最频繁出现的词性"
   ]
  },
  {
   "cell_type": "code",
   "execution_count": null,
   "id": "5e370af9",
   "metadata": {},
   "outputs": [],
   "source": []
  },
  {
   "cell_type": "markdown",
   "id": "31d6beb6",
   "metadata": {},
   "source": [
    "### 2.2.3 增加更多未知词性\n",
    "\n",
    "参考[GitHub](https://github.com/Adamouization/POS-Tagging-and-Unknown-Words)。"
   ]
  },
  {
   "cell_type": "code",
   "execution_count": null,
   "id": "97087d8b",
   "metadata": {},
   "outputs": [],
   "source": []
  },
  {
   "cell_type": "markdown",
   "id": "1ea47193",
   "metadata": {},
   "source": [
    "可以看到，训练集精度高于0.9，也高于测试集精度，但未达到1.0。\n",
    "\n",
    "# 3. 建立隐Markov模型\n",
    "\n",
    "## 3.1 训练模型\n",
    "\n",
    "使用`nltk.tag.HiddenMarkovModelTagger`，参考《Speech and Language Processing》8.4.3章。"
   ]
  },
  {
   "cell_type": "code",
   "execution_count": null,
   "id": "3a820f52",
   "metadata": {},
   "outputs": [],
   "source": []
  },
  {
   "cell_type": "markdown",
   "id": "2a0c7544",
   "metadata": {},
   "source": [
    "## 3.2 测试模型"
   ]
  },
  {
   "cell_type": "code",
   "execution_count": null,
   "id": "3bb95c46",
   "metadata": {},
   "outputs": [],
   "source": []
  },
  {
   "cell_type": "markdown",
   "id": "df6770d5",
   "metadata": {},
   "source": [
    "## 3.3 与基础模型的比较\n",
    "\n",
    "因"
   ]
  }
 ],
 "metadata": {
  "kernelspec": {
   "display_name": "Python 3 (ipykernel)",
   "language": "python",
   "name": "python3"
  },
  "language_info": {
   "codemirror_mode": {
    "name": "ipython",
    "version": 3
   },
   "file_extension": ".py",
   "mimetype": "text/x-python",
   "name": "python",
   "nbconvert_exporter": "python",
   "pygments_lexer": "ipython3",
   "version": "3.8.6"
  }
 },
 "nbformat": 4,
 "nbformat_minor": 5
}
