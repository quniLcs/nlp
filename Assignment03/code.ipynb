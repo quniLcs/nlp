{
 "cells": [
  {
   "cell_type": "markdown",
   "id": "63e262e4",
   "metadata": {},
   "source": [
    "# 自然语言处理第三次作业\n",
    "\n",
    "# 1. 数据导入\n",
    "\n",
    "## 1.1 样本导入 \n",
    "\n",
    "数据集来源于Brown corpus，存储于`train.txt`, `test.txt`。\n",
    "\n",
    "每个句子样本包含三个部分：\n",
    "\n",
    "第一行为句子编号；\n",
    "\n",
    "接下来的若干行为单词词性对，用制表符隔开；\n",
    "\n",
    "最后一行为空行。\n",
    "\n",
    "将数据集导入存储于`train`和`test`列表，列表的每个元素是单词词性对列表。"
   ]
  },
  {
   "cell_type": "code",
   "execution_count": 1,
   "id": "49deac30",
   "metadata": {},
   "outputs": [],
   "source": [
    "train = []\n",
    "with open('train.txt', 'r') as file:\n",
    "    for line in file:\n",
    "        if '\\t' in line:\n",
    "            train[-1].append(line.split())\n",
    "        elif line != '\\n':\n",
    "            train.append([])\n",
    "\n",
    "test = []\n",
    "with open('test.txt', 'r') as file:\n",
    "    for line in file:\n",
    "        if '\\t' in line:\n",
    "            test[-1].append(line.split())\n",
    "        elif line != '\\n':\n",
    "            test.append([])"
   ]
  },
  {
   "cell_type": "markdown",
   "id": "ccdc9581",
   "metadata": {},
   "source": [
    "## 1.2 标签导入\n",
    "\n",
    "标签共12个，存储于`tag.txt`。"
   ]
  },
  {
   "cell_type": "code",
   "execution_count": 2,
   "id": "fd15986f",
   "metadata": {},
   "outputs": [
    {
     "name": "stdout",
     "output_type": "stream",
     "text": [
      ".\n",
      "ADJ\n",
      "ADP\n",
      "ADV\n",
      "CONJ\n",
      "DET\n",
      "NOUN\n",
      "NUM\n",
      "PRON\n",
      "PRT\n",
      "VERB\n",
      "X\n"
     ]
    }
   ],
   "source": [
    "tag = []\n",
    "\n",
    "with open('tag.txt', 'r') as file:\n",
    "    for line in file:\n",
    "        print(line, end = '')\n",
    "        tag.append(line.rstrip('\\n'))"
   ]
  },
  {
   "cell_type": "markdown",
   "id": "89cc089e",
   "metadata": {},
   "source": [
    "## 1.3 统计单词与句子数"
   ]
  },
  {
   "cell_type": "code",
   "execution_count": 3,
   "id": "ad7713b0",
   "metadata": {},
   "outputs": [
    {
     "name": "stdout",
     "output_type": "stream",
     "text": [
      "数据集\t单词数\t句子数\n",
      "训练集\t928327\t45800\n",
      "测试集\t232865\t11540\n"
     ]
    }
   ],
   "source": [
    "num_word = [sum([len(sent) for sent in train]), sum([len(sent) for sent in test])]\n",
    "\n",
    "print('数据集\\t单词数\\t句子数')     \n",
    "print('训练集\\t%d\\t%d' % (num_word[0], len(train)))      \n",
    "print('测试集\\t%d\\t%d' % (num_word[1], len(test)))"
   ]
  },
  {
   "cell_type": "markdown",
   "id": "9e3652b4",
   "metadata": {},
   "source": [
    "## 1.4 统计不同词性的单词数\n",
    "\n",
    "`num`是一个字典，其键为词性，其值为一个列表。\n",
    "\n",
    "列表中的第一个值表示训练集中该词性单词数，第二个值表示测试集中该词性单词数。"
   ]
  },
  {
   "cell_type": "code",
   "execution_count": 4,
   "id": "988f287d",
   "metadata": {},
   "outputs": [
    {
     "name": "stdout",
     "output_type": "stream",
     "text": [
      "'   .':\t[117723, 29842]\n",
      "' ADJ':\t[ 66985, 16736]\n",
      "' ADP':\t[115752, 29014]\n",
      "' ADV':\t[ 44765, 11474]\n",
      "'CONJ':\t[ 30455,  7696]\n",
      "' DET':\t[109418, 27601]\n",
      "'NOUN':\t[220451, 55107]\n",
      "' NUM':\t[ 11921,  2953]\n",
      "'PRON':\t[ 39657,  9677]\n",
      "' PRT':\t[ 23889,  5940]\n",
      "'VERB':\t[146199, 36551]\n",
      "'   X':\t[  1112,   274]\n"
     ]
    }
   ],
   "source": [
    "num = {}\n",
    "\n",
    "for key in tag:\n",
    "    num[key] = [0, 0]\n",
    "\n",
    "for sent in train:\n",
    "    for word in sent:\n",
    "        num[word[1]][0] += 1\n",
    "        \n",
    "for sent in test:\n",
    "    for word in sent:\n",
    "        num[word[1]][1] += 1\n",
    "\n",
    "for key in num:\n",
    "    print(\"'%4s':\\t[%6d, %5d]\" % (key, num[key][0], num[key][1]))"
   ]
  },
  {
   "cell_type": "markdown",
   "id": "530ac2a8",
   "metadata": {},
   "source": [
    "## 2. 建立基础模型\n",
    "\n",
    "参考《Speech and Language Processing》第163页建立基础模型。\n",
    "\n",
    "## 2.1 建立模型\n",
    "\n",
    "`count`是一个字典，其键为单词，其值为一个字典，\n",
    "\n",
    "字典的键为词性，值为该单词以该词性出现的次数。"
   ]
  },
  {
   "cell_type": "code",
   "execution_count": 5,
   "id": "ec72b9a4",
   "metadata": {},
   "outputs": [],
   "source": [
    "count = {}\n",
    "\n",
    "for sent in train:\n",
    "    for word in sent:\n",
    "        if word[0] not in count:\n",
    "            count[word[0]] = {word[1]: 1}\n",
    "        elif word[1] not in count[word[0]]:\n",
    "            count[word[0]][word[1]] = 1\n",
    "        else:\n",
    "            count[word[0]][word[1]] += 1"
   ]
  },
  {
   "cell_type": "markdown",
   "id": "2fd0c1a6",
   "metadata": {},
   "source": [
    "`baseline`是一个字典，其键为单词，其值为词性。"
   ]
  },
  {
   "cell_type": "code",
   "execution_count": 6,
   "id": "17bf17a2",
   "metadata": {},
   "outputs": [],
   "source": [
    "baseline = {}\n",
    "\n",
    "for word in count:\n",
    "    max_count = 0\n",
    "    for key in count[word]:\n",
    "        if count[word][key] > max_count:\n",
    "            max_count = count[word][key]\n",
    "            max_key = key\n",
    "    baseline[word] = max_key"
   ]
  },
  {
   "cell_type": "markdown",
   "id": "0f87358a",
   "metadata": {},
   "source": [
    "## 2.2 测试模型\n",
    "\n",
    "使用不同方法处理未知单词。\n",
    "\n",
    "### 2.2.1 使用其它词性\n",
    "\n",
    "即将未知单词定为`X`。"
   ]
  },
  {
   "cell_type": "code",
   "execution_count": 7,
   "id": "38528080",
   "metadata": {},
   "outputs": [
    {
     "name": "stdout",
     "output_type": "stream",
     "text": [
      "训练集正确率：0.957196\n",
      "测试集正确率：0.930951\n"
     ]
    }
   ],
   "source": [
    "correct = 0\n",
    "\n",
    "for sent in train:\n",
    "    for word in sent:\n",
    "        if word[0] in baseline:\n",
    "            correct += word[1] == baseline[word[0]]\n",
    "        else:\n",
    "            correct += word[1] == 'X'\n",
    "            \n",
    "print('训练集正确率：%.6f' % (correct / num_word[0]))\n",
    "\n",
    "correct = 0\n",
    "\n",
    "for sent in test:\n",
    "    for word in sent:\n",
    "        if word[0] in baseline:\n",
    "            correct += word[1] == baseline[word[0]]\n",
    "        else:\n",
    "            correct += word[1] == 'X'\n",
    "            \n",
    "print('测试集正确率：%.6f' % (correct / num_word[1]))"
   ]
  },
  {
   "cell_type": "markdown",
   "id": "649116da",
   "metadata": {},
   "source": [
    "可以看到，训练集精度高于0.9，也高于测试集精度，但未达到1.0。\n",
    "\n",
    "### 2.2.2 使用出现一次的单词中最频繁出现的词性\n",
    "\n",
    "`count_one`是一个字典，其键为词性，其值为出现一次的单词以该词性出现的次数。"
   ]
  },
  {
   "cell_type": "code",
   "execution_count": 8,
   "id": "0786d47b",
   "metadata": {},
   "outputs": [
    {
     "name": "stdout",
     "output_type": "stream",
     "text": [
      "'   .':\t    0\n",
      "' ADJ':\t 3896\n",
      "' ADP':\t   43\n",
      "' ADV':\t  757\n",
      "'CONJ':\t    2\n",
      "' DET':\t   14\n",
      "'NOUN':\t13873\n",
      "' NUM':\t  788\n",
      "'PRON':\t   17\n",
      "' PRT':\t  138\n",
      "'VERB':\t 3525\n",
      "'   X':\t  473\n"
     ]
    }
   ],
   "source": [
    "count_one = dict.fromkeys(tag, 0)\n",
    "\n",
    "for word in count:\n",
    "    if len(count[word]) == 1:\n",
    "        for key in count[word]:\n",
    "            if count[word][key] == 1:\n",
    "                count_one[key] += 1\n",
    "            \n",
    "for key in count_one:\n",
    "    print(\"'%4s':\\t%5d\" % (key, count_one[key]))"
   ]
  },
  {
   "cell_type": "markdown",
   "id": "295801b9",
   "metadata": {},
   "source": [
    "即将未知单词定为`NOUN`："
   ]
  },
  {
   "cell_type": "code",
   "execution_count": 9,
   "id": "5e370af9",
   "metadata": {},
   "outputs": [
    {
     "name": "stdout",
     "output_type": "stream",
     "text": [
      "训练集正确率：0.957196\n",
      "测试集正确率：0.945187\n"
     ]
    }
   ],
   "source": [
    "correct = 0\n",
    "\n",
    "for sent in train:\n",
    "    for word in sent:\n",
    "        if word[0] in baseline:\n",
    "            correct += word[1] == baseline[word[0]]\n",
    "        else:\n",
    "            correct += word[1] == 'NOUN'\n",
    "            \n",
    "print('训练集正确率：%.6f' % (correct / num_word[0]))\n",
    "\n",
    "correct = 0\n",
    "\n",
    "for sent in test:\n",
    "    for word in sent:\n",
    "        if word[0] in baseline:\n",
    "            correct += word[1] == baseline[word[0]]\n",
    "        else:\n",
    "            correct += word[1] == 'NOUN'\n",
    "            \n",
    "print('测试集正确率：%.6f' % (correct / num_word[1]))"
   ]
  },
  {
   "cell_type": "markdown",
   "id": "31d6beb6",
   "metadata": {},
   "source": [
    "可以看到，训练集精度显然不会变化，仍然高于测试集精度；测试集精度有所提升。\n",
    "\n",
    "### 2.2.3 使用最频繁出现的词性\n",
    "\n",
    "即将未知单词定为`NOUN`，结果同上。\n",
    "\n",
    "### 2.2.4 词形判断\n",
    "\n",
    "参考[GitHub](https://github.com/Adamouization/POS-Tagging-and-Unknown-Words)通过词形初步判断词性，无法判断的词性记为`X`："
   ]
  },
  {
   "cell_type": "code",
   "execution_count": 10,
   "id": "97087d8b",
   "metadata": {},
   "outputs": [],
   "source": [
    "import string"
   ]
  },
  {
   "cell_type": "code",
   "execution_count": 11,
   "id": "d2cbe699",
   "metadata": {},
   "outputs": [],
   "source": [
    "def unknown_word_tag_x(word):\n",
    "    if all(char in string.punctuation for char in word):\n",
    "        return '.'\n",
    "    elif any(word.endswith(suffix) for suffix in [\"ous\", \"ese\", \"ful\", \"i\", \"ian\", \"ible\", \"ic\", \"ish\", \"ive\", \"less\", \"able\"]):\n",
    "        return 'ADJ'\n",
    "    elif any(word.endswith(suffix) for suffix in [\"ly\", \"wise\", \"wards\", \"ward\"]):\n",
    "        return 'ADV'\n",
    "    elif any(word.endswith(suffix) for suffix in [\"action\", \"age\", \"ance\", \"cy\", \"ee\", \"ence\", \"er\", \"hood\", \"ion\", \"ism\",\n",
    "                                                  \"ist\", \"ity\", \"ment\", \"ness\", \"or\", \"ry\", \"scape\", \"ship\", \"dom\", \"ty\", \"'s\"]):\n",
    "        return 'NOUN'\n",
    "    elif any(char.isdigit() for char in word):\n",
    "        return 'NUM'\n",
    "    elif any(word.endswith(suffix) for suffix in [\"ed\", \"ify\", \"ise\", \"ize\", \"ate\", \"ing\"]):\n",
    "        return 'VERB'\n",
    "    else:\n",
    "        return 'X'"
   ]
  },
  {
   "cell_type": "code",
   "execution_count": 12,
   "id": "6f0335c5",
   "metadata": {},
   "outputs": [
    {
     "name": "stdout",
     "output_type": "stream",
     "text": [
      "训练集正确率：0.957196\n",
      "测试集正确率：0.939604\n"
     ]
    }
   ],
   "source": [
    "correct = 0\n",
    "\n",
    "for sent in train:\n",
    "    for word in sent:\n",
    "        if word[0] in baseline:\n",
    "            correct += word[1] == baseline[word[0]]\n",
    "        else:\n",
    "            correct += word[1] == unknown_word_tag_x(word[0])\n",
    "            \n",
    "print('训练集正确率：%.6f' % (correct / num_word[0]))\n",
    "\n",
    "correct = 0\n",
    "\n",
    "for sent in test:\n",
    "    for word in sent:\n",
    "        if word[0] in baseline:\n",
    "            correct += word[1] == baseline[word[0]]\n",
    "        else:\n",
    "            correct += word[1] == unknown_word_tag_x(word[0])\n",
    "            \n",
    "print('测试集正确率：%.6f' % (correct / num_word[1]))"
   ]
  },
  {
   "cell_type": "markdown",
   "id": "8be3e7f8",
   "metadata": {},
   "source": [
    "可以看到，训练集精度显然不会变化，仍然高于测试集精度；测试集精度相对直接使用`X`有所提升，相对直接使用`NOUN`有所下降。\n",
    "\n",
    "### 2.2.5 另一种词形判断\n",
    "\n",
    "无法判断的词性记为`NOUN`："
   ]
  },
  {
   "cell_type": "code",
   "execution_count": 13,
   "id": "896aa86f",
   "metadata": {},
   "outputs": [],
   "source": [
    "def unknown_word_tag_noun(word):\n",
    "    if all(char in string.punctuation for char in word):\n",
    "        return '.'\n",
    "    elif any(word.endswith(suffix) for suffix in [\"ous\", \"ese\", \"ful\", \"i\", \"ian\", \"ible\", \"ic\", \"ish\", \"ive\", \"less\", \"able\"]):\n",
    "        return 'ADJ'\n",
    "    elif any(word.endswith(suffix) for suffix in [\"ly\", \"wise\", \"wards\", \"ward\"]):\n",
    "        return 'ADV'\n",
    "    elif any(word.endswith(suffix) for suffix in [\"action\", \"age\", \"ance\", \"cy\", \"ee\", \"ence\", \"er\", \"hood\", \"ion\", \"ism\",\n",
    "                                                  \"ist\", \"ity\", \"ment\", \"ness\", \"or\", \"ry\", \"scape\", \"ship\", \"dom\", \"ty\", \"'s\"]):\n",
    "        return 'NOUN'\n",
    "    elif any(char.isdigit() for char in word):\n",
    "        return 'NUM'\n",
    "    elif any(word.endswith(suffix) for suffix in [\"ed\", \"ify\", \"ise\", \"ize\", \"ate\", \"ing\"]):\n",
    "        return 'VERB'\n",
    "    else:\n",
    "        return 'NOUN'"
   ]
  },
  {
   "cell_type": "code",
   "execution_count": 14,
   "id": "7d321416",
   "metadata": {},
   "outputs": [
    {
     "name": "stdout",
     "output_type": "stream",
     "text": [
      "训练集正确率：0.957196\n",
      "测试集正确率：0.949168\n"
     ]
    }
   ],
   "source": [
    "correct = 0\n",
    "\n",
    "for sent in train:\n",
    "    for word in sent:\n",
    "        if word[0] in baseline:\n",
    "            correct += word[1] == baseline[word[0]]\n",
    "        else:\n",
    "            correct += word[1] == unknown_word_tag_noun(word[0])\n",
    "            \n",
    "print('训练集正确率：%.6f' % (correct / num_word[0]))\n",
    "\n",
    "correct = 0\n",
    "\n",
    "for sent in test:\n",
    "    for word in sent:\n",
    "        if word[0] in baseline:\n",
    "            correct += word[1] == baseline[word[0]]\n",
    "        else:\n",
    "            correct += word[1] == unknown_word_tag_noun(word[0])\n",
    "            \n",
    "print('测试集正确率：%.6f' % (correct / num_word[1]))"
   ]
  },
  {
   "cell_type": "markdown",
   "id": "964604cb",
   "metadata": {},
   "source": [
    "可以看到，训练集精度显然不会变化，仍然高于测试集精度；测试集精度相对以上所有方法都有所提升。\n",
    "\n",
    "### 2.2.6 修改单词\n",
    "\n",
    "将除了训练集中出现了两次及以上的单词修改为相应的标签。\n",
    "\n",
    "`symbol`是一个集合，其元素是训练集中出现了两次及以上的单词。"
   ]
  },
  {
   "cell_type": "code",
   "execution_count": 15,
   "id": "339bcbb9",
   "metadata": {},
   "outputs": [],
   "source": [
    "symbol = set()\n",
    "\n",
    "for word in count:\n",
    "    if len(count[word]) == 1:\n",
    "        for key in count[word]:\n",
    "            if count[word][key] == 1:\n",
    "                continue\n",
    "            else:\n",
    "                symbol.add(word)\n",
    "    else:\n",
    "        symbol.add(word)"
   ]
  },
  {
   "cell_type": "code",
   "execution_count": 16,
   "id": "72146dc0",
   "metadata": {},
   "outputs": [],
   "source": [
    "train_unknown = []\n",
    "for sent in train:\n",
    "    train_unknown.append([])\n",
    "    for word in sent:\n",
    "        if word[0] in symbol:\n",
    "            train_unknown[-1].append(word)\n",
    "        else:\n",
    "            train_unknown[-1].append(['<UNK-' + unknown_word_tag_x(word[0]) + '>', word[1]])\n",
    "        \n",
    "test_unknown = []\n",
    "for sent in test:\n",
    "    test_unknown.append([])\n",
    "    for word in sent:\n",
    "        if word[0] in symbol:\n",
    "            test_unknown[-1].append(word)\n",
    "        else:\n",
    "            test_unknown[-1].append(['<UNK-' + unknown_word_tag_x(word[0]) + '>', word[1]])"
   ]
  },
  {
   "cell_type": "code",
   "execution_count": 17,
   "id": "a44fb1aa",
   "metadata": {},
   "outputs": [],
   "source": [
    "count_unknown = {}\n",
    "\n",
    "for sent in train_unknown:\n",
    "    for word in sent:\n",
    "        if word[0] not in count_unknown:\n",
    "            count_unknown[word[0]] = {word[1]: 1}\n",
    "        elif word[1] not in count_unknown[word[0]]:\n",
    "            count_unknown[word[0]][word[1]] = 1\n",
    "        else:\n",
    "            count_unknown[word[0]][word[1]] += 1"
   ]
  },
  {
   "cell_type": "code",
   "execution_count": 18,
   "id": "3625ce19",
   "metadata": {},
   "outputs": [],
   "source": [
    "baseline_unknown = {}\n",
    "\n",
    "for word in count_unknown:\n",
    "    max_count = 0\n",
    "    for key in count_unknown[word]:\n",
    "        if count_unknown[word][key] > max_count:\n",
    "            max_count = count_unknown[word][key]\n",
    "            max_key = key\n",
    "    baseline_unknown[word] = max_key"
   ]
  },
  {
   "cell_type": "markdown",
   "id": "eb91c015",
   "metadata": {},
   "source": [
    "展示对于标签的预测："
   ]
  },
  {
   "cell_type": "code",
   "execution_count": 19,
   "id": "677226bf",
   "metadata": {},
   "outputs": [
    {
     "name": "stdout",
     "output_type": "stream",
     "text": [
      "标签\t\t预测词性\n",
      "<UNK-.>   \tNOUN\n",
      "<UNK-ADJ> \tADJ\n",
      "<UNK-ADV> \tADV\n",
      "<UNK-NOUN>\tNOUN\n",
      "<UNK-NUM> \tNUM\n",
      "<UNK-VERB>\tVERB\n",
      "<UNK-X>   \tNOUN\n"
     ]
    }
   ],
   "source": [
    "print('标签\\t\\t预测词性')\n",
    "for key in ('<UNK-.>', '<UNK-ADJ>', '<UNK-ADV>', '<UNK-NOUN>', '<UNK-NUM>', '<UNK-VERB>', '<UNK-X>'):\n",
    "    print('%-10s\\t%s' % (key, baseline_unknown[key]))"
   ]
  },
  {
   "cell_type": "markdown",
   "id": "468bad52",
   "metadata": {},
   "source": [
    "可以看到，相比直接采用默认值，修改单词的方法对默认值进行了自动修正。"
   ]
  },
  {
   "cell_type": "code",
   "execution_count": 20,
   "id": "e1b3a790",
   "metadata": {},
   "outputs": [
    {
     "name": "stdout",
     "output_type": "stream",
     "text": [
      "训练集正确率：0.950603\n",
      "测试集正确率：0.946411\n"
     ]
    }
   ],
   "source": [
    "correct = 0\n",
    "\n",
    "for sent in train_unknown:\n",
    "    for word in sent:\n",
    "        correct += word[1] == baseline_unknown[word[0]]\n",
    "            \n",
    "print('训练集正确率：%.6f' % (correct / num_word[0]))\n",
    "\n",
    "correct = 0\n",
    "\n",
    "for sent in test_unknown:\n",
    "    for word in sent:\n",
    "        correct += word[1] == baseline_unknown[word[0]]\n",
    "            \n",
    "print('测试集正确率：%.6f' % (correct / num_word[1]))"
   ]
  },
  {
   "cell_type": "markdown",
   "id": "1ea47193",
   "metadata": {},
   "source": [
    "可以看到，训练集精度意料之内地有所下降，但仍然高于测试集精度；测试集精度仅次于上述一种方法。\n",
    "\n",
    "各种方法总结如下：\n",
    "\n",
    "|编号|方法|训练集正确率|测试集正确率|\n",
    "|:--|:--|:--|:--|\n",
    "|1|使用其它词性|0.957196|0.930951|\n",
    "|2|使用出现一次的单词中最频繁出现的词性|0.957196|0.945187|\n",
    "|3|使用最频繁出现的词性|0.957196|0.945187|\n",
    "|4|默认为`X`的词形判断|0.957196|0.939604|\n",
    "|5|默认为`NOUN`的词形判断|0.957196|0.949168|\n",
    "|6|修改单词|0.950603|0.946411|\n",
    "\n",
    "# 3. 建立隐Markov模型\n",
    "\n",
    "## 3.1 训练模型\n",
    "\n",
    "使用`nltk.tag.HiddenMarkovModelTagger`，参考《Speech and Language Processing》8.4.3章。"
   ]
  },
  {
   "cell_type": "code",
   "execution_count": 21,
   "id": "3a820f52",
   "metadata": {},
   "outputs": [],
   "source": [
    "from nltk.tag import HiddenMarkovModelTagger\n",
    "from nltk import FreqDist\n",
    "from nltk.probability import ConditionalFreqDist, ConditionalProbDist, MLEProbDist"
   ]
  },
  {
   "cell_type": "code",
   "execution_count": 22,
   "id": "f705edd4",
   "metadata": {},
   "outputs": [],
   "source": [
    "for key in ('<UNK-.>', '<UNK-ADJ>', '<UNK-ADV>', '<UNK-NOUN>', '<UNK-NUM>', '<UNK-VERB>', '<UNK-X>'):\n",
    "    symbol.add(key)"
   ]
  },
  {
   "cell_type": "code",
   "execution_count": 23,
   "id": "6095866b",
   "metadata": {},
   "outputs": [],
   "source": [
    "transition = ConditionalProbDist(ConditionalFreqDist([(sent[index - 1][1], sent[index][1]) \n",
    "                                                      for sent in train_unknown for index in range(1, len(sent))]), MLEProbDist)"
   ]
  },
  {
   "cell_type": "code",
   "execution_count": 24,
   "id": "d682520a",
   "metadata": {},
   "outputs": [],
   "source": [
    "output = ConditionalProbDist(ConditionalFreqDist([(word[1], word[0]) for sent in train_unknown for word in sent]), MLEProbDist)"
   ]
  },
  {
   "cell_type": "code",
   "execution_count": 25,
   "id": "716b625a",
   "metadata": {},
   "outputs": [],
   "source": [
    "prior = MLEProbDist(FreqDist([sent[0][1] for sent in train_unknown]))"
   ]
  },
  {
   "cell_type": "code",
   "execution_count": 26,
   "id": "c097deb3",
   "metadata": {},
   "outputs": [],
   "source": [
    "hmm = HiddenMarkovModelTagger(symbols = symbol, states = tag, transitions = transition, outputs = output, priors = prior)"
   ]
  },
  {
   "cell_type": "markdown",
   "id": "2a0c7544",
   "metadata": {},
   "source": [
    "## 3.2 测试模型"
   ]
  },
  {
   "cell_type": "code",
   "execution_count": 27,
   "id": "bbd69377",
   "metadata": {},
   "outputs": [
    {
     "name": "stdout",
     "output_type": "stream",
     "text": [
      "训练集正确率：0.969255\n",
      "测试集正确率：0.963773\n"
     ]
    }
   ],
   "source": [
    "correct = 0\n",
    "\n",
    "for sent in train_unknown:\n",
    "    predict = hmm.tag([word[0] for word in sent])\n",
    "    for index in range(len(sent)):\n",
    "        correct += sent[index][1] == predict[index][1]\n",
    "    \n",
    "print('训练集正确率：%.6f' % (correct / num_word[0]))\n",
    "\n",
    "correct = 0\n",
    "\n",
    "for sent in test_unknown:\n",
    "    predict = hmm.tag([word[0] for word in sent])\n",
    "    for index in range(len(sent)):\n",
    "        correct += sent[index][1] == predict[index][1]\n",
    "    \n",
    "print('测试集正确率：%.6f' % (correct / num_word[1]))"
   ]
  },
  {
   "cell_type": "markdown",
   "id": "df6770d5",
   "metadata": {},
   "source": [
    "## 3.3 与基础模型的比较\n",
    "\n",
    "可以看到，由于获取了更多上下文信息，隐Markov模型的正确率高于baseline模型。"
   ]
  }
 ],
 "metadata": {
  "kernelspec": {
   "display_name": "Python 3 (ipykernel)",
   "language": "python",
   "name": "python3"
  },
  "language_info": {
   "codemirror_mode": {
    "name": "ipython",
    "version": 3
   },
   "file_extension": ".py",
   "mimetype": "text/x-python",
   "name": "python",
   "nbconvert_exporter": "python",
   "pygments_lexer": "ipython3",
   "version": "3.8.6"
  }
 },
 "nbformat": 4,
 "nbformat_minor": 5
}
