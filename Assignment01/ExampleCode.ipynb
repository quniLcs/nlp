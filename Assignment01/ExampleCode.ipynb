{
 "cells": [
  {
   "cell_type": "code",
   "execution_count": 10,
   "id": "8747e8b0",
   "metadata": {},
   "outputs": [],
   "source": [
    "import json\n",
    "import nltk\n",
    "import numpy as np"
   ]
  },
  {
   "cell_type": "code",
   "execution_count": null,
   "id": "e7314ba5",
   "metadata": {},
   "outputs": [],
   "source": [
    "import numpy as np"
   ]
  },
  {
   "cell_type": "code",
   "execution_count": 11,
   "id": "fd3d6eef",
   "metadata": {},
   "outputs": [
    {
     "name": "stdout",
     "output_type": "stream",
     "text": [
      "10000\n"
     ]
    }
   ],
   "source": [
    "np.random.seed(0)\n",
    "wiki_data = []\n",
    "with open(\"enwiki_20220201.json\",\"r\") as f:\n",
    "    for each_line in f:\n",
    "        record = json.loads(each_line)\n",
    "        wiki_data.append(record)\n",
    "print(len(wiki_data))"
   ]
  },
  {
   "cell_type": "code",
   "execution_count": 12,
   "id": "d75a8e84",
   "metadata": {},
   "outputs": [],
   "source": [
    "# T1. Your code"
   ]
  },
  {
   "cell_type": "code",
   "execution_count": 13,
   "id": "1a5ea1c5",
   "metadata": {},
   "outputs": [],
   "source": [
    "# T2. Your code"
   ]
  },
  {
   "cell_type": "code",
   "execution_count": null,
   "id": "0ba9bec1",
   "metadata": {},
   "outputs": [],
   "source": [
    "# T3. Your code"
   ]
  }
 ],
 "metadata": {
  "kernelspec": {
   "display_name": "Python 3",
   "language": "python",
   "name": "python3"
  },
  "language_info": {
   "codemirror_mode": {
    "name": "ipython",
    "version": 3
   },
   "file_extension": ".py",
   "mimetype": "text/x-python",
   "name": "python",
   "nbconvert_exporter": "python",
   "pygments_lexer": "ipython3",
   "version": "3.8.8"
  }
 },
 "nbformat": 4,
 "nbformat_minor": 5
}
